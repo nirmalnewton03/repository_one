{
 "cells": [
  {
   "cell_type": "code",
   "execution_count": 1,
   "id": "b3231373-8616-4532-b34c-e9f8068db730",
   "metadata": {},
   "outputs": [
    {
     "data": {
      "text/html": [
       "<div>\n",
       "<style scoped>\n",
       "    .dataframe tbody tr th:only-of-type {\n",
       "        vertical-align: middle;\n",
       "    }\n",
       "\n",
       "    .dataframe tbody tr th {\n",
       "        vertical-align: top;\n",
       "    }\n",
       "\n",
       "    .dataframe thead th {\n",
       "        text-align: right;\n",
       "    }\n",
       "</style>\n",
       "<table border=\"1\" class=\"dataframe\">\n",
       "  <thead>\n",
       "    <tr style=\"text-align: right;\">\n",
       "      <th></th>\n",
       "      <th>age</th>\n",
       "      <th>sex</th>\n",
       "      <th>cp</th>\n",
       "      <th>trestbps</th>\n",
       "      <th>chol</th>\n",
       "      <th>fbs</th>\n",
       "      <th>restecg</th>\n",
       "      <th>thalach</th>\n",
       "      <th>exang</th>\n",
       "      <th>oldpeak</th>\n",
       "      <th>slope</th>\n",
       "      <th>ca</th>\n",
       "      <th>thal</th>\n",
       "      <th>target</th>\n",
       "    </tr>\n",
       "  </thead>\n",
       "  <tbody>\n",
       "    <tr>\n",
       "      <th>0</th>\n",
       "      <td>63</td>\n",
       "      <td>1</td>\n",
       "      <td>3</td>\n",
       "      <td>145</td>\n",
       "      <td>233</td>\n",
       "      <td>1</td>\n",
       "      <td>0</td>\n",
       "      <td>150</td>\n",
       "      <td>0</td>\n",
       "      <td>2.3</td>\n",
       "      <td>0</td>\n",
       "      <td>0</td>\n",
       "      <td>1</td>\n",
       "      <td>1</td>\n",
       "    </tr>\n",
       "    <tr>\n",
       "      <th>1</th>\n",
       "      <td>37</td>\n",
       "      <td>1</td>\n",
       "      <td>2</td>\n",
       "      <td>130</td>\n",
       "      <td>250</td>\n",
       "      <td>0</td>\n",
       "      <td>1</td>\n",
       "      <td>187</td>\n",
       "      <td>0</td>\n",
       "      <td>3.5</td>\n",
       "      <td>0</td>\n",
       "      <td>0</td>\n",
       "      <td>2</td>\n",
       "      <td>1</td>\n",
       "    </tr>\n",
       "    <tr>\n",
       "      <th>2</th>\n",
       "      <td>41</td>\n",
       "      <td>0</td>\n",
       "      <td>1</td>\n",
       "      <td>130</td>\n",
       "      <td>204</td>\n",
       "      <td>0</td>\n",
       "      <td>0</td>\n",
       "      <td>172</td>\n",
       "      <td>0</td>\n",
       "      <td>1.4</td>\n",
       "      <td>2</td>\n",
       "      <td>0</td>\n",
       "      <td>2</td>\n",
       "      <td>1</td>\n",
       "    </tr>\n",
       "    <tr>\n",
       "      <th>3</th>\n",
       "      <td>56</td>\n",
       "      <td>1</td>\n",
       "      <td>1</td>\n",
       "      <td>120</td>\n",
       "      <td>236</td>\n",
       "      <td>0</td>\n",
       "      <td>1</td>\n",
       "      <td>178</td>\n",
       "      <td>0</td>\n",
       "      <td>0.8</td>\n",
       "      <td>2</td>\n",
       "      <td>0</td>\n",
       "      <td>2</td>\n",
       "      <td>1</td>\n",
       "    </tr>\n",
       "    <tr>\n",
       "      <th>4</th>\n",
       "      <td>57</td>\n",
       "      <td>0</td>\n",
       "      <td>0</td>\n",
       "      <td>120</td>\n",
       "      <td>354</td>\n",
       "      <td>0</td>\n",
       "      <td>1</td>\n",
       "      <td>163</td>\n",
       "      <td>1</td>\n",
       "      <td>0.6</td>\n",
       "      <td>2</td>\n",
       "      <td>0</td>\n",
       "      <td>2</td>\n",
       "      <td>1</td>\n",
       "    </tr>\n",
       "    <tr>\n",
       "      <th>...</th>\n",
       "      <td>...</td>\n",
       "      <td>...</td>\n",
       "      <td>...</td>\n",
       "      <td>...</td>\n",
       "      <td>...</td>\n",
       "      <td>...</td>\n",
       "      <td>...</td>\n",
       "      <td>...</td>\n",
       "      <td>...</td>\n",
       "      <td>...</td>\n",
       "      <td>...</td>\n",
       "      <td>...</td>\n",
       "      <td>...</td>\n",
       "      <td>...</td>\n",
       "    </tr>\n",
       "    <tr>\n",
       "      <th>298</th>\n",
       "      <td>57</td>\n",
       "      <td>0</td>\n",
       "      <td>0</td>\n",
       "      <td>140</td>\n",
       "      <td>241</td>\n",
       "      <td>0</td>\n",
       "      <td>1</td>\n",
       "      <td>123</td>\n",
       "      <td>1</td>\n",
       "      <td>0.2</td>\n",
       "      <td>1</td>\n",
       "      <td>0</td>\n",
       "      <td>3</td>\n",
       "      <td>0</td>\n",
       "    </tr>\n",
       "    <tr>\n",
       "      <th>299</th>\n",
       "      <td>45</td>\n",
       "      <td>1</td>\n",
       "      <td>3</td>\n",
       "      <td>110</td>\n",
       "      <td>264</td>\n",
       "      <td>0</td>\n",
       "      <td>1</td>\n",
       "      <td>132</td>\n",
       "      <td>0</td>\n",
       "      <td>1.2</td>\n",
       "      <td>1</td>\n",
       "      <td>0</td>\n",
       "      <td>3</td>\n",
       "      <td>0</td>\n",
       "    </tr>\n",
       "    <tr>\n",
       "      <th>300</th>\n",
       "      <td>68</td>\n",
       "      <td>1</td>\n",
       "      <td>0</td>\n",
       "      <td>144</td>\n",
       "      <td>193</td>\n",
       "      <td>1</td>\n",
       "      <td>1</td>\n",
       "      <td>141</td>\n",
       "      <td>0</td>\n",
       "      <td>3.4</td>\n",
       "      <td>1</td>\n",
       "      <td>2</td>\n",
       "      <td>3</td>\n",
       "      <td>0</td>\n",
       "    </tr>\n",
       "    <tr>\n",
       "      <th>301</th>\n",
       "      <td>57</td>\n",
       "      <td>1</td>\n",
       "      <td>0</td>\n",
       "      <td>130</td>\n",
       "      <td>131</td>\n",
       "      <td>0</td>\n",
       "      <td>1</td>\n",
       "      <td>115</td>\n",
       "      <td>1</td>\n",
       "      <td>1.2</td>\n",
       "      <td>1</td>\n",
       "      <td>1</td>\n",
       "      <td>3</td>\n",
       "      <td>0</td>\n",
       "    </tr>\n",
       "    <tr>\n",
       "      <th>302</th>\n",
       "      <td>57</td>\n",
       "      <td>0</td>\n",
       "      <td>1</td>\n",
       "      <td>130</td>\n",
       "      <td>236</td>\n",
       "      <td>0</td>\n",
       "      <td>0</td>\n",
       "      <td>174</td>\n",
       "      <td>0</td>\n",
       "      <td>0.0</td>\n",
       "      <td>1</td>\n",
       "      <td>1</td>\n",
       "      <td>2</td>\n",
       "      <td>0</td>\n",
       "    </tr>\n",
       "  </tbody>\n",
       "</table>\n",
       "<p>303 rows × 14 columns</p>\n",
       "</div>"
      ],
      "text/plain": [
       "     age  sex  cp  trestbps  chol  fbs  restecg  thalach  exang  oldpeak  \\\n",
       "0     63    1   3       145   233    1        0      150      0      2.3   \n",
       "1     37    1   2       130   250    0        1      187      0      3.5   \n",
       "2     41    0   1       130   204    0        0      172      0      1.4   \n",
       "3     56    1   1       120   236    0        1      178      0      0.8   \n",
       "4     57    0   0       120   354    0        1      163      1      0.6   \n",
       "..   ...  ...  ..       ...   ...  ...      ...      ...    ...      ...   \n",
       "298   57    0   0       140   241    0        1      123      1      0.2   \n",
       "299   45    1   3       110   264    0        1      132      0      1.2   \n",
       "300   68    1   0       144   193    1        1      141      0      3.4   \n",
       "301   57    1   0       130   131    0        1      115      1      1.2   \n",
       "302   57    0   1       130   236    0        0      174      0      0.0   \n",
       "\n",
       "     slope  ca  thal  target  \n",
       "0        0   0     1       1  \n",
       "1        0   0     2       1  \n",
       "2        2   0     2       1  \n",
       "3        2   0     2       1  \n",
       "4        2   0     2       1  \n",
       "..     ...  ..   ...     ...  \n",
       "298      1   0     3       0  \n",
       "299      1   0     3       0  \n",
       "300      1   2     3       0  \n",
       "301      1   1     3       0  \n",
       "302      1   1     2       0  \n",
       "\n",
       "[303 rows x 14 columns]"
      ]
     },
     "execution_count": 1,
     "metadata": {},
     "output_type": "execute_result"
    }
   ],
   "source": [
    "import numpy as np\n",
    "import pandas as pd\n",
    "heart=pd.read_csv('heart.csv')\n",
    "heart"
   ]
  },
  {
   "cell_type": "markdown",
   "id": "8f13128d-6e1e-4571-a7fd-08f188746a6d",
   "metadata": {},
   "source": [
    "## Null hypothesis(Ho): The average cholestrol level is less than or equal to 200 mg/dl\n",
    "## Alternative hypothesis: The average cholestrol level is greater than 200 mg/dl"
   ]
  },
  {
   "cell_type": "code",
   "execution_count": 2,
   "id": "5ce84f81-0c70-4fad-8163-00f78750513f",
   "metadata": {},
   "outputs": [
    {
     "data": {
      "text/plain": [
       "179    276\n",
       "228    288\n",
       "111    126\n",
       "246    409\n",
       "60     265\n",
       "      ... \n",
       "150    228\n",
       "265    212\n",
       "233    246\n",
       "247    246\n",
       "11     275\n",
       "Name: chol, Length: 200, dtype: int64"
      ]
     },
     "execution_count": 2,
     "metadata": {},
     "output_type": "execute_result"
    }
   ],
   "source": [
    "import scipy.stats as stats\n",
    "# One tailed test\n",
    "cholestrol_levels=heart['chol']\n",
    "\n",
    "# set the sample size\n",
    "sample_size=200 #n\n",
    "\n",
    "# random sample 100 cholestrol levels\n",
    "sample=cholestrol_levels.sample(n=sample_size,random_state=42)#random_state=42 is used to pick the same set of random numbers \n",
    "\n",
    "#define the population mean (hypothesized mean)\n",
    "population_mean =200 #mu\n",
    "sample"
   ]
  },
  {
   "cell_type": "code",
   "execution_count": 3,
   "id": "89095abf-97e7-4243-a3ca-b592413bc344",
   "metadata": {},
   "outputs": [],
   "source": [
    "# calculate statistics\n",
    "sample_mean=sample.mean() # mean of the sample (Xbar)\n",
    "sample_std=sample.std(ddof=1) # sample standard deviation (Sigma)\n",
    "\n",
    "# Z-test calculation\n",
    "\n",
    "z_score=(sample_mean-population_mean)/(sample_std/(sample_size**0.5))"
   ]
  },
  {
   "cell_type": "code",
   "execution_count": 4,
   "id": "4f570519-00c0-459f-87e6-134c48554288",
   "metadata": {},
   "outputs": [
    {
     "data": {
      "text/plain": [
       "1.959963984540054"
      ]
     },
     "execution_count": 4,
     "metadata": {},
     "output_type": "execute_result"
    }
   ],
   "source": [
    "stats.norm.ppf(0.975) # critcal value for 2 tailed"
   ]
  },
  {
   "cell_type": "code",
   "execution_count": 5,
   "id": "f95992f9-0962-49be-b8ce-43b3da34923d",
   "metadata": {},
   "outputs": [
    {
     "data": {
      "text/plain": [
       "1.6448536269514722"
      ]
     },
     "execution_count": 5,
     "metadata": {},
     "output_type": "execute_result"
    }
   ],
   "source": [
    "stats.norm.ppf(0.95) # critcal value for 1 tailed"
   ]
  },
  {
   "cell_type": "code",
   "execution_count": 6,
   "id": "2133bffc-7ada-4143-b768-1424e5690d28",
   "metadata": {},
   "outputs": [
    {
     "name": "stdout",
     "output_type": "stream",
     "text": [
      "{'Sample_Mean': 249.515, 'z-score': 13.372692854915593, 'Critical_value ci=95%': 1.6448536269514722}\n"
     ]
    }
   ],
   "source": [
    "#percent point function(ppf) gives the value below which a certain percentage of data falls\n",
    "critical_value=stats.norm.ppf(0.95)\n",
    "results={'Sample_Mean':sample_mean,\"z-score\":z_score,\"Critical_value ci=95%\":critical_value}\n",
    "print(results)"
   ]
  },
  {
   "cell_type": "code",
   "execution_count": 7,
   "id": "0e4edf5d-a763-43ce-acc3-030add04916c",
   "metadata": {},
   "outputs": [
    {
     "data": {
      "text/plain": [
       "{'Critical value comparison': 'Accept Ha'}"
      ]
     },
     "execution_count": 7,
     "metadata": {},
     "output_type": "execute_result"
    }
   ],
   "source": [
    "decision={'Critical value comparison':'Accept Ha' if z_score>critical_value else 'Accept Ho' }\n",
    "decision"
   ]
  },
  {
   "cell_type": "code",
   "execution_count": 8,
   "id": "ec4a2829-0fb2-47e4-92df-013140cb5367",
   "metadata": {},
   "outputs": [
    {
     "data": {
      "text/plain": [
       "1.6448536269514722"
      ]
     },
     "execution_count": 8,
     "metadata": {},
     "output_type": "execute_result"
    }
   ],
   "source": [
    "stats.norm.ppf(0.95)"
   ]
  },
  {
   "cell_type": "markdown",
   "id": "7df71513-d579-43ab-b985-e9e6a56627cd",
   "metadata": {},
   "source": [
    "### import scipy\n",
    "scipy.__version__"
   ]
  },
  {
   "cell_type": "code",
   "execution_count": 9,
   "id": "0a76d062-8738-42dc-b3f1-6a42c97618bc",
   "metadata": {},
   "outputs": [
    {
     "name": "stdout",
     "output_type": "stream",
     "text": [
      "accept alt hyp(p_value:0.0)\n"
     ]
    }
   ],
   "source": [
    "#Z test using p-value\n",
    "#CDF stands for cumm dist func. For a norm dist, the cdf tells u the area under the curve to the left of a given z_score\n",
    "alpha=0.05\n",
    "p_value=1-stats.norm.cdf(z_score)\n",
    "if p_value<alpha:\n",
    "    print(f\"accept alt hyp(p_value:{p_value})\")\n",
    "else:\n",
    "    print(f\"accept null hyp(p_value:{p_value})\")"
   ]
  },
  {
   "cell_type": "markdown",
   "id": "223a044b-4a43-46f5-aa66-8a9cf09a52d4",
   "metadata": {},
   "source": [
    "## T-test\n",
    "we can compare the mean cholestrol levels between two groups\n",
    "grp1- Patients with heart disease (target=1)\n",
    "grp2- Patients without heart disease (target=0)"
   ]
  },
  {
   "cell_type": "markdown",
   "id": "57decc32-4c05-4fc4-b703-07ff2c95d9c1",
   "metadata": {},
   "source": [
    "## Null hyp: There is no diff in the mean chol levels between the 2 groups\n",
    "## Alt hyp: There is significant diff in the mean chol levels btwn the two groups"
   ]
  },
  {
   "cell_type": "code",
   "execution_count": 27,
   "id": "902c982b-6b92-4b5d-9d91-524f1bb9384e",
   "metadata": {},
   "outputs": [],
   "source": [
    "sample_size=25 #n<30\n",
    "grp1=heart[heart['target']==1]['chol'].sample(n=sample_size,random_state=42)\n",
    "grp2=heart[heart['target']==0]['chol'].sample(n=sample_size,random_state=42)\n"
   ]
  },
  {
   "cell_type": "code",
   "execution_count": 11,
   "id": "6571c547-a391-4af7-834a-cd548b498205",
   "metadata": {},
   "outputs": [
    {
     "name": "stdout",
     "output_type": "stream",
     "text": [
      "T statistic:-0.05645685011974626\n",
      "P-value:0.9552122280739332\n"
     ]
    }
   ],
   "source": [
    "# perform  an independent t-test\n",
    "t_stat,p_value=stats.ttest_ind(grp1,grp2) # here ttest_ind means independent t test\n",
    "alpha=0.05\n",
    "print(f'T statistic:{t_stat}')\n",
    "print(f'P-value:{p_value}')"
   ]
  },
  {
   "cell_type": "code",
   "execution_count": 12,
   "id": "242782c2-576b-411d-989d-3cea7ceaad2b",
   "metadata": {},
   "outputs": [
    {
     "name": "stdout",
     "output_type": "stream",
     "text": [
      "accept null hypothesis : no significant difference in mean cholestrol levels\n"
     ]
    }
   ],
   "source": [
    "if p_value<alpha:\n",
    "    print('accept alternate hypothesis: There is a significant difference in mean cholestrol levels:')\n",
    "else:\n",
    "    print('accept null hypothesis : no significant difference in mean cholestrol levels')"
   ]
  },
  {
   "cell_type": "markdown",
   "id": "c30b955d-e3cc-4db9-8e6c-1b63807ce242",
   "metadata": {},
   "source": [
    "## paired T test"
   ]
  },
  {
   "cell_type": "markdown",
   "id": "48327555-ede5-4912-b3ac-5c421db611cd",
   "metadata": {},
   "source": [
    "Null Hypothesis: treatment had no effect on patients\n",
    "\n",
    "\n",
    "Alternative Hypothesis: treatment has made changes in patients "
   ]
  },
  {
   "cell_type": "code",
   "execution_count": 13,
   "id": "556a42aa-c050-4894-9e0b-7d9e8e2d72a1",
   "metadata": {},
   "outputs": [],
   "source": [
    "bef=np.array([100,102,98,105,110,99,101,103,97,100])\n",
    "aft=np.array([102,100,99,107,108,98,102,101,96,101])"
   ]
  },
  {
   "cell_type": "code",
   "execution_count": 14,
   "id": "4649b089-d45f-45c0-bdd3-c6f78f5e4268",
   "metadata": {},
   "outputs": [
    {
     "name": "stdout",
     "output_type": "stream",
     "text": [
      "T-statistic:0.19011727515734334\n",
      "P-value:0.853436208125729\n"
     ]
    }
   ],
   "source": [
    "# perform paired t test\n",
    "t_stat,p_value=stats.ttest_rel(bef,aft) # here rel indicates the paired data\n",
    "\n",
    "print(f'T-statistic:{t_stat}')\n",
    "print(f'P-value:{p_value}')\n",
    "\n"
   ]
  },
  {
   "cell_type": "code",
   "execution_count": 15,
   "id": "b8bef600-6443-4fa1-9d5a-7ba7cb1719c6",
   "metadata": {},
   "outputs": [
    {
     "name": "stdout",
     "output_type": "stream",
     "text": [
      "accept null hypothesis: No significant difference between the paired samples\n"
     ]
    }
   ],
   "source": [
    "alpha=0.05\n",
    "\n",
    "# hyp test condition based on the P-value alone\n",
    "\n",
    "if p_value<alpha:\n",
    "    print('accept alternate hypothesis: There is a significant difference between the paired samples')\n",
    "else:\n",
    "    print(\"accept null hypothesis: No significant difference between the paired samples\")"
   ]
  },
  {
   "cell_type": "code",
   "execution_count": 16,
   "id": "65cb7fb1-440c-4a50-846b-032d539803cb",
   "metadata": {},
   "outputs": [],
   "source": [
    "# One way ANOVA to compare the mean cholestrol levels (chol)\n",
    "# across these different values of cp\n",
    "# chest pain types (although the exact definitions can be vary by dataset)\n",
    "# 0 : Typical angina (chest pain due to reduced blood flow to the heart muscle)\n",
    "# 1 : Atypocal angina (chest pain that doesnt fit the classica description of angina )\n",
    "# 2 : Non- anginal pain (pain related to angina)\n",
    "# 3 : Asymptomatic (no chest pain)"
   ]
  },
  {
   "cell_type": "code",
   "execution_count": 17,
   "id": "5bdcce0a-2bde-40a2-ba8a-3f10ded38cea",
   "metadata": {},
   "outputs": [
    {
     "data": {
      "text/plain": [
       "array([3, 2, 1, 0], dtype=int64)"
      ]
     },
     "execution_count": 17,
     "metadata": {},
     "output_type": "execute_result"
    }
   ],
   "source": [
    "heart['cp'].unique()"
   ]
  },
  {
   "cell_type": "code",
   "execution_count": 18,
   "id": "9d178199-14b5-439b-beb0-aae0b386b3d5",
   "metadata": {},
   "outputs": [
    {
     "data": {
      "text/html": [
       "<div>\n",
       "<style scoped>\n",
       "    .dataframe tbody tr th:only-of-type {\n",
       "        vertical-align: middle;\n",
       "    }\n",
       "\n",
       "    .dataframe tbody tr th {\n",
       "        vertical-align: top;\n",
       "    }\n",
       "\n",
       "    .dataframe thead th {\n",
       "        text-align: right;\n",
       "    }\n",
       "</style>\n",
       "<table border=\"1\" class=\"dataframe\">\n",
       "  <thead>\n",
       "    <tr style=\"text-align: right;\">\n",
       "      <th></th>\n",
       "      <th>age</th>\n",
       "      <th>sex</th>\n",
       "      <th>cp</th>\n",
       "      <th>trestbps</th>\n",
       "      <th>chol</th>\n",
       "      <th>fbs</th>\n",
       "      <th>restecg</th>\n",
       "      <th>thalach</th>\n",
       "      <th>exang</th>\n",
       "      <th>oldpeak</th>\n",
       "      <th>slope</th>\n",
       "      <th>ca</th>\n",
       "      <th>thal</th>\n",
       "      <th>target</th>\n",
       "    </tr>\n",
       "  </thead>\n",
       "  <tbody>\n",
       "    <tr>\n",
       "      <th>0</th>\n",
       "      <td>63</td>\n",
       "      <td>1</td>\n",
       "      <td>3</td>\n",
       "      <td>145</td>\n",
       "      <td>233</td>\n",
       "      <td>1</td>\n",
       "      <td>0</td>\n",
       "      <td>150</td>\n",
       "      <td>0</td>\n",
       "      <td>2.3</td>\n",
       "      <td>0</td>\n",
       "      <td>0</td>\n",
       "      <td>1</td>\n",
       "      <td>1</td>\n",
       "    </tr>\n",
       "    <tr>\n",
       "      <th>1</th>\n",
       "      <td>37</td>\n",
       "      <td>1</td>\n",
       "      <td>2</td>\n",
       "      <td>130</td>\n",
       "      <td>250</td>\n",
       "      <td>0</td>\n",
       "      <td>1</td>\n",
       "      <td>187</td>\n",
       "      <td>0</td>\n",
       "      <td>3.5</td>\n",
       "      <td>0</td>\n",
       "      <td>0</td>\n",
       "      <td>2</td>\n",
       "      <td>1</td>\n",
       "    </tr>\n",
       "    <tr>\n",
       "      <th>2</th>\n",
       "      <td>41</td>\n",
       "      <td>0</td>\n",
       "      <td>1</td>\n",
       "      <td>130</td>\n",
       "      <td>204</td>\n",
       "      <td>0</td>\n",
       "      <td>0</td>\n",
       "      <td>172</td>\n",
       "      <td>0</td>\n",
       "      <td>1.4</td>\n",
       "      <td>2</td>\n",
       "      <td>0</td>\n",
       "      <td>2</td>\n",
       "      <td>1</td>\n",
       "    </tr>\n",
       "    <tr>\n",
       "      <th>3</th>\n",
       "      <td>56</td>\n",
       "      <td>1</td>\n",
       "      <td>1</td>\n",
       "      <td>120</td>\n",
       "      <td>236</td>\n",
       "      <td>0</td>\n",
       "      <td>1</td>\n",
       "      <td>178</td>\n",
       "      <td>0</td>\n",
       "      <td>0.8</td>\n",
       "      <td>2</td>\n",
       "      <td>0</td>\n",
       "      <td>2</td>\n",
       "      <td>1</td>\n",
       "    </tr>\n",
       "    <tr>\n",
       "      <th>4</th>\n",
       "      <td>57</td>\n",
       "      <td>0</td>\n",
       "      <td>0</td>\n",
       "      <td>120</td>\n",
       "      <td>354</td>\n",
       "      <td>0</td>\n",
       "      <td>1</td>\n",
       "      <td>163</td>\n",
       "      <td>1</td>\n",
       "      <td>0.6</td>\n",
       "      <td>2</td>\n",
       "      <td>0</td>\n",
       "      <td>2</td>\n",
       "      <td>1</td>\n",
       "    </tr>\n",
       "    <tr>\n",
       "      <th>...</th>\n",
       "      <td>...</td>\n",
       "      <td>...</td>\n",
       "      <td>...</td>\n",
       "      <td>...</td>\n",
       "      <td>...</td>\n",
       "      <td>...</td>\n",
       "      <td>...</td>\n",
       "      <td>...</td>\n",
       "      <td>...</td>\n",
       "      <td>...</td>\n",
       "      <td>...</td>\n",
       "      <td>...</td>\n",
       "      <td>...</td>\n",
       "      <td>...</td>\n",
       "    </tr>\n",
       "    <tr>\n",
       "      <th>298</th>\n",
       "      <td>57</td>\n",
       "      <td>0</td>\n",
       "      <td>0</td>\n",
       "      <td>140</td>\n",
       "      <td>241</td>\n",
       "      <td>0</td>\n",
       "      <td>1</td>\n",
       "      <td>123</td>\n",
       "      <td>1</td>\n",
       "      <td>0.2</td>\n",
       "      <td>1</td>\n",
       "      <td>0</td>\n",
       "      <td>3</td>\n",
       "      <td>0</td>\n",
       "    </tr>\n",
       "    <tr>\n",
       "      <th>299</th>\n",
       "      <td>45</td>\n",
       "      <td>1</td>\n",
       "      <td>3</td>\n",
       "      <td>110</td>\n",
       "      <td>264</td>\n",
       "      <td>0</td>\n",
       "      <td>1</td>\n",
       "      <td>132</td>\n",
       "      <td>0</td>\n",
       "      <td>1.2</td>\n",
       "      <td>1</td>\n",
       "      <td>0</td>\n",
       "      <td>3</td>\n",
       "      <td>0</td>\n",
       "    </tr>\n",
       "    <tr>\n",
       "      <th>300</th>\n",
       "      <td>68</td>\n",
       "      <td>1</td>\n",
       "      <td>0</td>\n",
       "      <td>144</td>\n",
       "      <td>193</td>\n",
       "      <td>1</td>\n",
       "      <td>1</td>\n",
       "      <td>141</td>\n",
       "      <td>0</td>\n",
       "      <td>3.4</td>\n",
       "      <td>1</td>\n",
       "      <td>2</td>\n",
       "      <td>3</td>\n",
       "      <td>0</td>\n",
       "    </tr>\n",
       "    <tr>\n",
       "      <th>301</th>\n",
       "      <td>57</td>\n",
       "      <td>1</td>\n",
       "      <td>0</td>\n",
       "      <td>130</td>\n",
       "      <td>131</td>\n",
       "      <td>0</td>\n",
       "      <td>1</td>\n",
       "      <td>115</td>\n",
       "      <td>1</td>\n",
       "      <td>1.2</td>\n",
       "      <td>1</td>\n",
       "      <td>1</td>\n",
       "      <td>3</td>\n",
       "      <td>0</td>\n",
       "    </tr>\n",
       "    <tr>\n",
       "      <th>302</th>\n",
       "      <td>57</td>\n",
       "      <td>0</td>\n",
       "      <td>1</td>\n",
       "      <td>130</td>\n",
       "      <td>236</td>\n",
       "      <td>0</td>\n",
       "      <td>0</td>\n",
       "      <td>174</td>\n",
       "      <td>0</td>\n",
       "      <td>0.0</td>\n",
       "      <td>1</td>\n",
       "      <td>1</td>\n",
       "      <td>2</td>\n",
       "      <td>0</td>\n",
       "    </tr>\n",
       "  </tbody>\n",
       "</table>\n",
       "<p>303 rows × 14 columns</p>\n",
       "</div>"
      ],
      "text/plain": [
       "     age  sex  cp  trestbps  chol  fbs  restecg  thalach  exang  oldpeak  \\\n",
       "0     63    1   3       145   233    1        0      150      0      2.3   \n",
       "1     37    1   2       130   250    0        1      187      0      3.5   \n",
       "2     41    0   1       130   204    0        0      172      0      1.4   \n",
       "3     56    1   1       120   236    0        1      178      0      0.8   \n",
       "4     57    0   0       120   354    0        1      163      1      0.6   \n",
       "..   ...  ...  ..       ...   ...  ...      ...      ...    ...      ...   \n",
       "298   57    0   0       140   241    0        1      123      1      0.2   \n",
       "299   45    1   3       110   264    0        1      132      0      1.2   \n",
       "300   68    1   0       144   193    1        1      141      0      3.4   \n",
       "301   57    1   0       130   131    0        1      115      1      1.2   \n",
       "302   57    0   1       130   236    0        0      174      0      0.0   \n",
       "\n",
       "     slope  ca  thal  target  \n",
       "0        0   0     1       1  \n",
       "1        0   0     2       1  \n",
       "2        2   0     2       1  \n",
       "3        2   0     2       1  \n",
       "4        2   0     2       1  \n",
       "..     ...  ..   ...     ...  \n",
       "298      1   0     3       0  \n",
       "299      1   0     3       0  \n",
       "300      1   2     3       0  \n",
       "301      1   1     3       0  \n",
       "302      1   1     2       0  \n",
       "\n",
       "[303 rows x 14 columns]"
      ]
     },
     "execution_count": 18,
     "metadata": {},
     "output_type": "execute_result"
    }
   ],
   "source": [
    "heart"
   ]
  },
  {
   "cell_type": "code",
   "execution_count": 19,
   "id": "8321bf3f-8925-48ca-9b7f-6845459ba0ac",
   "metadata": {},
   "outputs": [
    {
     "data": {
      "text/plain": [
       "4      354\n",
       "5      192\n",
       "10     239\n",
       "18     247\n",
       "20     234\n",
       "      ... \n",
       "296    197\n",
       "297    176\n",
       "298    241\n",
       "300    193\n",
       "301    131\n",
       "Name: chol, Length: 143, dtype: int64"
      ]
     },
     "execution_count": 19,
     "metadata": {},
     "output_type": "execute_result"
    }
   ],
   "source": [
    "heart[heart['cp']==0]['chol']"
   ]
  },
  {
   "cell_type": "code",
   "execution_count": 20,
   "id": "2a9cda11-abdc-4d88-9501-6d78d248a80f",
   "metadata": {},
   "outputs": [
    {
     "name": "stdout",
     "output_type": "stream",
     "text": [
      "[152    227\n",
      "83     298\n",
      "0      233\n",
      "62     186\n",
      "228    288\n",
      "106    234\n",
      "13     211\n",
      "117    193\n",
      "24     199\n",
      "14     283\n",
      "Name: chol, dtype: int64, 203    274\n",
      "1      250\n",
      "54     252\n",
      "48     216\n",
      "33     273\n",
      "163    175\n",
      "28     417\n",
      "40     308\n",
      "15     219\n",
      "164    175\n",
      "Name: chol, dtype: int64, 67     234\n",
      "161    342\n",
      "132    295\n",
      "248    283\n",
      "77     221\n",
      "287    232\n",
      "118    204\n",
      "114    262\n",
      "134    306\n",
      "81     308\n",
      "Name: chol, dtype: int64, 268    286\n",
      "91     207\n",
      "221    217\n",
      "242    212\n",
      "189    172\n",
      "57     260\n",
      "288    335\n",
      "200    197\n",
      "201    258\n",
      "89     248\n",
      "Name: chol, dtype: int64]\n"
     ]
    }
   ],
   "source": [
    "# sample size for each 'cp' type(ensure n<30)\n",
    "sample_size=10 # adjust as needed\n",
    "samples=[]\n",
    "\n",
    "# get unique 'cp' values\n",
    "cp_values=heart['cp'].unique()\n",
    "\n",
    "for cp in cp_values:\n",
    "    #randomly sample from the 'chol' column for each 'cp' type\n",
    "    sample=heart[heart['cp']==cp]['chol'].sample(n=sample_size,random_state=42) # will have 40 random samples from each category (0,1,2,3)\n",
    "    samples.append(sample)\n",
    "print(samples)"
   ]
  },
  {
   "cell_type": "code",
   "execution_count": 21,
   "id": "a7bcad0d-1dd1-4b6f-a3f8-0ac220ad768b",
   "metadata": {},
   "outputs": [
    {
     "name": "stdout",
     "output_type": "stream",
     "text": [
      "F-statistic: 0.8671400266189693\n",
      "p_value: 0.46703363060086867\n"
     ]
    }
   ],
   "source": [
    "f_statistic,p_value=stats.f_oneway(*samples)\n",
    "#print the results\n",
    "print(f'F-statistic: {f_statistic}')\n",
    "print(f'p_value: {p_value}')\n",
    "\n",
    "# set the significance level\n",
    "alpha=0.05"
   ]
  },
  {
   "cell_type": "code",
   "execution_count": 22,
   "id": "973ebc08-fcd6-4889-b62c-fff2869e2c36",
   "metadata": {},
   "outputs": [
    {
     "name": "stdout",
     "output_type": "stream",
     "text": [
      "accept null hyp : there is no sig diff in mean chol levels among chest pain\n"
     ]
    }
   ],
   "source": [
    "# hypothesis test conclusion based on p-value\n",
    "if p_value<alpha:\n",
    "    print('accept alt hyp : there is a sig diff in mean chol levels among chest pain')\n",
    "else:\n",
    "    print('accept null hyp : there is no sig diff in mean chol levels among chest pain')\n",
    "\n",
    "#chol level and cp column are uncorrelated"
   ]
  },
  {
   "cell_type": "code",
   "execution_count": 23,
   "id": "be009c28-a9cb-440f-ad2e-d3c4f74e0150",
   "metadata": {},
   "outputs": [
    {
     "name": "stdout",
     "output_type": "stream",
     "text": [
      "accept alt hyp : there is a sig diff in mean chol levels among chest pain\n"
     ]
    }
   ],
   "source": [
    "print('accept alt hyp : there is a sig diff in mean chol levels among chest pain')"
   ]
  },
  {
   "cell_type": "code",
   "execution_count": null,
   "id": "68680a2d-5e34-4b15-bba9-b0c596a98bcf",
   "metadata": {},
   "outputs": [],
   "source": []
  }
 ],
 "metadata": {
  "kernelspec": {
   "display_name": "Python 3 (ipykernel)",
   "language": "python",
   "name": "python3"
  },
  "language_info": {
   "codemirror_mode": {
    "name": "ipython",
    "version": 3
   },
   "file_extension": ".py",
   "mimetype": "text/x-python",
   "name": "python",
   "nbconvert_exporter": "python",
   "pygments_lexer": "ipython3",
   "version": "3.11.7"
  }
 },
 "nbformat": 4,
 "nbformat_minor": 5
}
